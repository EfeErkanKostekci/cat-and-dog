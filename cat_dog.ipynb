{
  "nbformat": 4,
  "nbformat_minor": 0,
  "metadata": {
    "colab": {
      "name": "cat-dog",
      "provenance": [],
      "collapsed_sections": [],
      "include_colab_link": true
    },
    "kernelspec": {
      "name": "python3",
      "display_name": "Python 3"
    },
    "language_info": {
      "name": "python"
    }
  },
  "cells": [
    {
      "cell_type": "markdown",
      "metadata": {
        "id": "view-in-github",
        "colab_type": "text"
      },
      "source": [
        "<a href=\"https://colab.research.google.com/github/erkanthecodder/cat-and-dog/blob/main/cat_dog.ipynb\" target=\"_parent\"><img src=\"https://colab.research.google.com/assets/colab-badge.svg\" alt=\"Open In Colab\"/></a>"
      ]
    },
    {
      "cell_type": "code",
      "execution_count": null,
      "metadata": {
        "id": "5mu2gS2gL1ne"
      },
      "outputs": [],
      "source": [
        "#gerekli kütüphaneler tanımlanıyor\n",
        "\n",
        "from tensorflow.keras.layers import Dense,Flatten,Conv2D,MaxPool2D,MaxPooling2D,Dropout\n",
        "from tensorflow.keras.preprocessing.image import ImageDataGenerator,load_img\n",
        "from tensorflow.keras.preprocessing import image\n",
        "import pandas as pd\n",
        "import numpy as np\n",
        "from keras.models import Sequential"
      ]
    },
    {
      "cell_type": "code",
      "source": [
        "from google.colab import drive\n",
        "drive.mount('/content/drive')"
      ],
      "metadata": {
        "colab": {
          "base_uri": "https://localhost:8080/"
        },
        "id": "3Gub1Kc0RAao",
        "outputId": "9ab37c69-8079-4903-c3df-f2a83841ea8b"
      },
      "execution_count": null,
      "outputs": [
        {
          "output_type": "stream",
          "name": "stdout",
          "text": [
            "Drive already mounted at /content/drive; to attempt to forcibly remount, call drive.mount(\"/content/drive\", force_remount=True).\n"
          ]
        }
      ]
    },
    {
      "cell_type": "code",
      "source": [
        "img_size = [64,64,3]"
      ],
      "metadata": {
        "id": "tVQmrCI6MDzC"
      },
      "execution_count": null,
      "outputs": []
    },
    {
      "cell_type": "code",
      "source": [
        "test = '/content/drive/MyDrive/test_set'\n",
        "train = '/content/drive/MyDrive/training_set'"
      ],
      "metadata": {
        "id": "HaviNNM_MIET"
      },
      "execution_count": null,
      "outputs": []
    },
    {
      "cell_type": "code",
      "source": [
        "#hazır veri setinden çekilen fotoğraflar yeniden boyutlandırılıyor\n",
        "train_datagen = ImageDataGenerator(rescale = 1./255,\n",
        "                                   shear_range = 0.2,\n",
        "                                   zoom_range = 0.2,\n",
        "                                   horizontal_flip = True)\n",
        "\n",
        "test_datagen = ImageDataGenerator(rescale = 1./255)"
      ],
      "metadata": {
        "id": "jqiRt0YmMtFi"
      },
      "execution_count": null,
      "outputs": []
    },
    {
      "cell_type": "code",
      "source": [
        "#Hazır veri setindeki resimlerin boyutuyla veri çıkışındaki fotoğrafların boyutlarını eşitliyor\n",
        "training_set = train_datagen.flow_from_directory(train,\n",
        "                                                 target_size = (64, 64),\n",
        "                                                 batch_size = 16,\n",
        "                                                 class_mode = 'categorical')"
      ],
      "metadata": {
        "colab": {
          "base_uri": "https://localhost:8080/"
        },
        "id": "xSZJumBZM4IB",
        "outputId": "fc676a96-69bd-4dcd-d494-5a0b257ca68b"
      },
      "execution_count": null,
      "outputs": [
        {
          "output_type": "stream",
          "name": "stdout",
          "text": [
            "Found 681 images belonging to 2 classes.\n"
          ]
        }
      ]
    },
    {
      "cell_type": "code",
      "source": [
        "#aynı işlem test veriseti için yapılıyor\n",
        "test_set = test_datagen.flow_from_directory(test,\n",
        "                                            target_size = (64, 64),\n",
        "                                            batch_size = 16,\n",
        "                                            class_mode = 'categorical')"
      ],
      "metadata": {
        "colab": {
          "base_uri": "https://localhost:8080/"
        },
        "id": "a4kXwHB6NNfo",
        "outputId": "6f6046a3-51ae-4dd2-dbec-4abf47e063f1"
      },
      "execution_count": null,
      "outputs": [
        {
          "output_type": "stream",
          "name": "stdout",
          "text": [
            "Found 701 images belonging to 2 classes.\n"
          ]
        }
      ]
    },
    {
      "cell_type": "code",
      "source": [
        "#sınıf tanımlanması yapılıyor (0indexi kedileri, 1 indexi köpekleri temsil ediyor)\n",
        "training_set.class_indices"
      ],
      "metadata": {
        "colab": {
          "base_uri": "https://localhost:8080/"
        },
        "id": "npPa064ONqJw",
        "outputId": "b1cd9fcc-d3e2-4c9e-bf86-01ac85cf91a2"
      },
      "execution_count": null,
      "outputs": [
        {
          "output_type": "execute_result",
          "data": {
            "text/plain": [
              "{'cats': 0, 'dogs': 1}"
            ]
          },
          "metadata": {},
          "execution_count": 15
        }
      ]
    },
    {
      "cell_type": "code",
      "source": [
        "#Sinirağı katmanında görseller iki boyutlu bir vektöre dönüşütürlüyor\n",
        "\n",
        "model1 = Sequential()\n",
        "model1.add(Conv2D(filters=32, kernel_size=3, input_shape=[64, 64, 3]))\n",
        "model1.add(MaxPooling2D(pool_size=(2,2)))\n",
        "model1.add(Conv2D(filters=64, kernel_size=3))\n",
        "model1.add(MaxPooling2D(pool_size=(2,2)))\n",
        "model1.add(Conv2D(filters=128, kernel_size=3))\n",
        "model1.add(MaxPooling2D(pool_size=(2,2)))     \n",
        "\n",
        "model1.add(Conv2D(filters=256, kernel_size=3))\n",
        "model1.add(MaxPooling2D(pool_size=(2,2)))\n",
        "\n",
        "model1.add(Dropout(0.5))                                                                        \n",
        "model1.add(Flatten()) # neural network beulding\n",
        "model1.add(Dense(units=128, activation='relu')) # input layers\n",
        "model1.add(Dropout(0.1))                                    \n",
        "model1.add(Dense(units=256, activation='relu'))                                    \n",
        "model1.add(Dropout(0.25))             \n",
        "model1.add(Dense(units=2, activation='softmax')) # output layer"
      ],
      "metadata": {
        "id": "6wbwMAT3N7Gm"
      },
      "execution_count": null,
      "outputs": []
    },
    {
      "cell_type": "code",
      "source": [
        "#optimize etmek için hazır fonksiyon kullanılıyor\n",
        "model1.compile(optimizer = 'adam', loss = 'categorical_crossentropy', metrics = ['accuracy'])"
      ],
      "metadata": {
        "id": "CZsM2ZbCORlO"
      },
      "execution_count": null,
      "outputs": []
    },
    {
      "cell_type": "code",
      "source": [
        "#model eğitilmeye başlıyor\n",
        "history1 = model1.fit(\n",
        "  training_set,\n",
        "  validation_data=test_set,\n",
        "  epochs=25,\n",
        "  steps_per_epoch=len(training_set),\n",
        "  validation_steps=len(test_set)\n",
        ")"
      ],
      "metadata": {
        "colab": {
          "base_uri": "https://localhost:8080/"
        },
        "id": "W3uElG9kOXyl",
        "outputId": "c86d4283-4965-4a74-f0a4-805046fc7c7f"
      },
      "execution_count": null,
      "outputs": [
        {
          "output_type": "stream",
          "name": "stdout",
          "text": [
            "Epoch 1/25\n",
            "43/43 [==============================] - 182s 4s/step - loss: 0.6940 - accuracy: 0.5962 - val_loss: 0.7278 - val_accuracy: 0.4850\n",
            "Epoch 2/25\n",
            "43/43 [==============================] - 13s 297ms/step - loss: 0.6502 - accuracy: 0.6358 - val_loss: 0.7321 - val_accuracy: 0.4922\n",
            "Epoch 3/25\n",
            "43/43 [==============================] - 13s 297ms/step - loss: 0.6402 - accuracy: 0.6446 - val_loss: 0.8133 - val_accuracy: 0.4850\n",
            "Epoch 4/25\n",
            "43/43 [==============================] - 13s 296ms/step - loss: 0.6485 - accuracy: 0.6388 - val_loss: 0.8010 - val_accuracy: 0.4850\n",
            "Epoch 5/25\n",
            "43/43 [==============================] - 13s 296ms/step - loss: 0.6448 - accuracy: 0.6461 - val_loss: 0.7800 - val_accuracy: 0.4964\n",
            "Epoch 6/25\n",
            "43/43 [==============================] - 15s 340ms/step - loss: 0.6355 - accuracy: 0.6535 - val_loss: 0.9281 - val_accuracy: 0.4850\n",
            "Epoch 7/25\n",
            "43/43 [==============================] - 13s 299ms/step - loss: 0.6102 - accuracy: 0.6784 - val_loss: 0.7623 - val_accuracy: 0.5407\n",
            "Epoch 8/25\n",
            "43/43 [==============================] - 13s 295ms/step - loss: 0.5954 - accuracy: 0.6755 - val_loss: 0.6197 - val_accuracy: 0.6648\n",
            "Epoch 9/25\n",
            "43/43 [==============================] - 13s 293ms/step - loss: 0.6088 - accuracy: 0.6417 - val_loss: 0.7098 - val_accuracy: 0.5849\n",
            "Epoch 10/25\n",
            "43/43 [==============================] - 13s 295ms/step - loss: 0.6495 - accuracy: 0.6300 - val_loss: 0.7267 - val_accuracy: 0.4964\n",
            "Epoch 11/25\n",
            "43/43 [==============================] - 13s 299ms/step - loss: 0.5961 - accuracy: 0.6725 - val_loss: 0.7493 - val_accuracy: 0.5307\n",
            "Epoch 12/25\n",
            "43/43 [==============================] - 13s 296ms/step - loss: 0.5848 - accuracy: 0.6887 - val_loss: 0.6188 - val_accuracy: 0.6476\n",
            "Epoch 13/25\n",
            "43/43 [==============================] - 13s 292ms/step - loss: 0.5508 - accuracy: 0.7137 - val_loss: 0.7491 - val_accuracy: 0.5720\n",
            "Epoch 14/25\n",
            "43/43 [==============================] - 13s 305ms/step - loss: 0.5662 - accuracy: 0.6696 - val_loss: 0.7560 - val_accuracy: 0.5606\n",
            "Epoch 15/25\n",
            "43/43 [==============================] - 13s 295ms/step - loss: 0.5580 - accuracy: 0.6916 - val_loss: 0.6668 - val_accuracy: 0.6134\n",
            "Epoch 16/25\n",
            "43/43 [==============================] - 13s 299ms/step - loss: 0.5625 - accuracy: 0.7195 - val_loss: 0.6617 - val_accuracy: 0.6006\n",
            "Epoch 17/25\n",
            "43/43 [==============================] - 13s 297ms/step - loss: 0.5334 - accuracy: 0.7357 - val_loss: 0.6253 - val_accuracy: 0.6762\n",
            "Epoch 18/25\n",
            "43/43 [==============================] - 13s 299ms/step - loss: 0.5028 - accuracy: 0.7372 - val_loss: 0.7285 - val_accuracy: 0.6448\n",
            "Epoch 19/25\n",
            "43/43 [==============================] - 13s 298ms/step - loss: 0.5284 - accuracy: 0.7327 - val_loss: 0.6492 - val_accuracy: 0.6847\n",
            "Epoch 20/25\n",
            "43/43 [==============================] - 13s 302ms/step - loss: 0.4922 - accuracy: 0.7709 - val_loss: 0.6563 - val_accuracy: 0.6705\n",
            "Epoch 21/25\n",
            "43/43 [==============================] - 13s 298ms/step - loss: 0.5014 - accuracy: 0.7562 - val_loss: 0.5738 - val_accuracy: 0.7133\n",
            "Epoch 22/25\n",
            "43/43 [==============================] - 13s 296ms/step - loss: 0.4531 - accuracy: 0.7768 - val_loss: 0.6394 - val_accuracy: 0.6990\n",
            "Epoch 23/25\n",
            "43/43 [==============================] - 13s 297ms/step - loss: 0.4707 - accuracy: 0.7621 - val_loss: 0.6511 - val_accuracy: 0.6947\n",
            "Epoch 24/25\n",
            "43/43 [==============================] - 13s 299ms/step - loss: 0.4489 - accuracy: 0.8135 - val_loss: 0.6408 - val_accuracy: 0.7090\n",
            "Epoch 25/25\n",
            "43/43 [==============================] - 13s 302ms/step - loss: 0.4152 - accuracy: 0.7974 - val_loss: 0.5762 - val_accuracy: 0.7261\n"
          ]
        }
      ]
    },
    {
      "cell_type": "code",
      "source": [
        "#hazır model haline getirilip kaydediliyor\n",
        "model1.save('Cat_Dog_classifier.h5')   # Dog:1 , Cat:0"
      ],
      "metadata": {
        "id": "TFbQaOyDOdht"
      },
      "execution_count": null,
      "outputs": []
    },
    {
      "cell_type": "code",
      "source": [
        "#hazır modelimizi içeri atıyor\n",
        "from keras import models\n",
        "model =models.load_model(\"Cat_Dog_classifier.h5\")"
      ],
      "metadata": {
        "id": "uwU7mNCnO6H7"
      },
      "execution_count": null,
      "outputs": []
    },
    {
      "cell_type": "code",
      "source": [
        "#test için fotoğraf yükleniyor\n",
        "# img_path = \"/content/drive/MyDrive/datasets/cat_dog_dataset/Test_imgs/1.jpeg\"\n",
        "img_path = \"/content/drive/MyDrive/test_set/dogs/dog.4001.jpg\""
      ],
      "metadata": {
        "id": "4plX2OosPAv7"
      },
      "execution_count": 40,
      "outputs": []
    },
    {
      "cell_type": "code",
      "source": [
        "#yüklenen fotoğrafı yeniden boyutlandırıp açıyoruz\n",
        "img=image.load_img(img_path,target_size=(64,64))\n",
        "img"
      ],
      "metadata": {
        "colab": {
          "base_uri": "https://localhost:8080/",
          "height": 81
        },
        "id": "0_q6n8PePHk7",
        "outputId": "f7e5e3f7-b127-410f-e8dd-b150c1cbfeba"
      },
      "execution_count": 41,
      "outputs": [
        {
          "output_type": "execute_result",
          "data": {
            "text/plain": [
              "<PIL.Image.Image image mode=RGB size=64x64 at 0x7F56ADD1F290>"
            ],
            "image/png": "[encoded data removed]"
          },
          "metadata": {},
          "execution_count": 41
        }
      ]
    },
    {
      "cell_type": "code",
      "source": [
        "#tahmin edilen index 1 ise köpek değil ise kedi yazdırıyoruz\n",
        "x=image.img_to_array(img)\n",
        "x=x/255\n",
        "x=np.expand_dims(x,axis=0)\n",
        "pred = np.argmax(model.predict(x)[0], axis=-1)\n",
        "\n",
        "if pred==1:\n",
        "  print('DOG')\n",
        "else:\n",
        "  print(\"CAT\")\n"
      ],
      "metadata": {
        "colab": {
          "base_uri": "https://localhost:8080/"
        },
        "id": "9LT9oQNPPYZ6",
        "outputId": "0e45ea74-bc99-428f-ec85-a0fa7446ac0e"
      },
      "execution_count": 42,
      "outputs": [
        {
          "output_type": "stream",
          "name": "stdout",
          "text": [
            "DOG\n"
          ]
        }
      ]
    },
    {
      "cell_type": "code",
      "source": [
        "#aynı işlem kedi fotoğrafı için yapılıyor\n",
        "image_path = \"/content/drive/MyDrive/test_set/cats/cat.4094.jpg\"\n",
        "img=image.load_img(image_path,target_size=(64,64))\n",
        "img"
      ],
      "metadata": {
        "colab": {
          "base_uri": "https://localhost:8080/",
          "height": 81
        },
        "id": "d4aZSWkpdmmr",
        "outputId": "7835ade0-ac6f-4b26-813d-580ed09fb648"
      },
      "execution_count": 36,
      "outputs": [
        {
          "output_type": "execute_result",
          "data": {
            "text/plain": [
              "<PIL.Image.Image image mode=RGB size=64x64 at 0x7F56ABC5BD10>"
            ],
            "image/png": "[encoded data removed]"
          },
          "metadata": {},
          "execution_count": 36
        }
      ]
    },
    {
      "cell_type": "code",
      "source": [
        "#tahmin edilen index 1 ise köpek değil ise kedi yazdırıyoruz\n",
        "x=image.img_to_array(img)\n",
        "x=x/255\n",
        "x=np.expand_dims(x,axis=0)\n",
        "pred = np.argmax(model.predict(x)[0], axis=-1)\n",
        "\n",
        "if pred==1:\n",
        "  print('DOG')\n",
        "else:\n",
        "  print(\"CAT\")"
      ],
      "metadata": {
        "id": "UVEFq6zOPoIz",
        "colab": {
          "base_uri": "https://localhost:8080/"
        },
        "outputId": "319891d6-1a0a-4f49-f064-f1bdc927a7dc"
      },
      "execution_count": 37,
      "outputs": [
        {
          "output_type": "stream",
          "name": "stdout",
          "text": [
            "CAT\n"
          ]
        }
      ]
    }
  ]
}